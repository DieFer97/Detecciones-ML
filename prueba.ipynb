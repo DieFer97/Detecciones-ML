{
 "cells": [
  {
   "cell_type": "code",
   "execution_count": 12,
   "id": "fb134da4-b1bb-488c-b025-ba19ff11486b",
   "metadata": {},
   "outputs": [],
   "source": [
    "import cv2\n",
    "import threading\n",
    "import time\n",
    "from ultralytics import YOLO\n",
    "from IPython.display import display, Image\n",
    "import PIL.Image as PILImage\n",
    "import numpy as np"
   ]
  },
  {
   "cell_type": "code",
   "execution_count": 13,
   "id": "fc81e3e2",
   "metadata": {},
   "outputs": [],
   "source": [
    "modelo = YOLO('yolov8n.pt')"
   ]
  },
  {
   "cell_type": "code",
   "execution_count": 14,
   "id": "2d2aacaa",
   "metadata": {},
   "outputs": [],
   "source": [
    "cap = cv2.VideoCapture(0)"
   ]
  },
  {
   "cell_type": "code",
   "execution_count": 15,
   "id": "654e5d1c",
   "metadata": {},
   "outputs": [
    {
     "name": "stdout",
     "output_type": "stream",
     "text": [
      "✅ Cámara iniciada. Presiona 'q' para salir.\n"
     ]
    }
   ],
   "source": [
    "if not cap.isOpened():\n",
    "    print(\"❌ No se pudo acceder a la cámara.\")\n",
    "    exit()\n",
    "\n",
    "print(\"✅ Cámara iniciada. Presiona 'q' para salir.\")"
   ]
  },
  {
   "cell_type": "code",
   "execution_count": null,
   "id": "8a1bb681",
   "metadata": {},
   "outputs": [],
   "source": [
    "def detectar():\n",
    "    while True:\n",
    "        ret, frame = cap.read()\n",
    "        if not ret:\n",
    "            print(\"❌ Error al capturar el frame.\")\n",
    "            break\n",
    "\n",
    "        results = modelo.predict(source=frame, conf=0.5, show=False)\n",
    "        frame_renderizado = results[0].plot()\n",
    "\n",
    "        frame_rgb = cv2.cvtColor(frame_renderizado, cv2.COLOR_BGR2RGB)\n",
    "        img_pil = PILImage.fromarray(frame_rgb)\n",
    "\n",
    "        display(img_pil)\n",
    "\n",
    "        if cv2.waitKey(1) & 0xFF == ord('q'):\n",
    "            print(\"👋 Saliendo...\")\n",
    "            break\n",
    "        \n",
    "        time.sleep(0.05)"
   ]
  },
  {
   "cell_type": "code",
   "execution_count": 17,
   "id": "7ff2c056",
   "metadata": {},
   "outputs": [],
   "source": [
    "cap.release()\n",
    "cv2.destroyAllWindows()"
   ]
  },
  {
   "cell_type": "code",
   "execution_count": 18,
   "id": "497f5aa8",
   "metadata": {},
   "outputs": [
    {
     "name": "stdout",
     "output_type": "stream",
     "text": [
      "❌ Error al capturar el frame.\n"
     ]
    }
   ],
   "source": [
    "thread = threading.Thread(target=detectar)\n",
    "thread.start()"
   ]
  }
 ],
 "metadata": {
  "kernelspec": {
   "display_name": "Python 3 (ipykernel)",
   "language": "python",
   "name": "python3"
  },
  "language_info": {
   "codemirror_mode": {
    "name": "ipython",
    "version": 3
   },
   "file_extension": ".py",
   "mimetype": "text/x-python",
   "name": "python",
   "nbconvert_exporter": "python",
   "pygments_lexer": "ipython3",
   "version": "3.12.3"
  }
 },
 "nbformat": 4,
 "nbformat_minor": 5
}
